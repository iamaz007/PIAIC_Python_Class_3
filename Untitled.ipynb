{
 "cells": [
  {
   "cell_type": "code",
   "execution_count": 42,
   "metadata": {},
   "outputs": [
    {
     "name": "stdout",
     "output_type": "stream",
     "text": [
      "abc is working at Google for 5 years and his salary is 125000\n"
     ]
    }
   ],
   "source": [
    "#1 Indexing\n",
    "employee_data = ['abc', 125000, 'Google', 5]\n",
    "message=\"{name} is working at {company} for {years} years and his salary is {salary}\".format(name=employee_data[0],years=employee_data[3],company=employee_data[2],salary=employee_data[1])\n",
    "print(message)"
   ]
  },
  {
   "cell_type": "code",
   "execution_count": 43,
   "metadata": {},
   "outputs": [
    {
     "name": "stdout",
     "output_type": "stream",
     "text": [
      "Hello abc qwe,\n",
      "Your application is accepted for admission in \"BS Computer Science\" in National Textile University.\n",
      "You have to submit fee 50000 before 28 Januray 2020.\n",
      "Your classes will start from 05 February 2020.\n",
      "Thanks\n"
     ]
    }
   ],
   "source": [
    "studentData = ['abc', 'qwe', 'National Textile University', 'Computer Science', 'BS', 50000,'28 Januray 2020', '05 February 2020']\n",
    "\n",
    "m=\"\"\"Hello {f_name} {l_name},\n",
    "Your application is accepted for admission in \"{degree} {degree_name}\" in {uni}.\n",
    "You have to submit fee {fee} before {due_date}.\n",
    "Your classes will start from {class_date}.\n",
    "Thanks\"\"\".format(f_name=studentData[0],l_name=studentData[1],uni=studentData[2],degree_name=studentData[3],degree=studentData[4],fee=studentData[5],due_date=studentData[6],class_date=studentData[7],)\n",
    "print(m)"
   ]
  },
  {
   "cell_type": "code",
   "execution_count": 31,
   "metadata": {},
   "outputs": [
    {
     "name": "stdout",
     "output_type": "stream",
     "text": [
      "positive slicing\n",
      " ['Faisalabad', 'Lahore', 'Islamabad', 'Peshawar']\n",
      "['Islamabad', 'Peshawar', 'Quetta', 'Sahiwal']\n",
      "['Sahiwal', 'Rawalpindi', 'Sialkot']\n",
      "\n",
      "negative slicing\n",
      " ['Quetta', 'Sahiwal', 'Rawalpindi']\n",
      "['Peshawar', 'Quetta', 'Sahiwal', 'Rawalpindi', 'Sialkot']\n"
     ]
    }
   ],
   "source": [
    "#2. Slicing\n",
    "cities = [\"Faisalabad\", \"Lahore\", \"Islamabad\", \"Peshawar\", \"Quetta\", \"Sahiwal\", \"Rawalpindi\", \"Sialkot\"]\n",
    "\n",
    "#(positive slicing)\n",
    "print('positive slicing\\n',cities[0:4])\n",
    "print(cities[2:6])\n",
    "print(cities[5:8])\n",
    "\n",
    "#(negative slicing)\n",
    "print('\\nnegative slicing\\n',cities[-4:-1])\n",
    "print(cities[-5:])\n"
   ]
  },
  {
   "cell_type": "code",
   "execution_count": 54,
   "metadata": {},
   "outputs": [
    {
     "name": "stdout",
     "output_type": "stream",
     "text": [
      "abc qwert, 22, 91.24, Computer Science, 5, National Textile University\n",
      "abc qwert, 22, 91.24, Computer Science, 5, National Textile University, 20 February 2019\n",
      "abc qwert, 22, 91.24, Computer Science, 5, National Textile University, 20 February 2019, 8\n"
     ]
    }
   ],
   "source": [
    "# append\n",
    "student_data = [\"abc qwert\", 22, 91.24, \"Computer Science\", 5, \"National Textile University\"]\n",
    "print(*student_data, sep = \", \")\n",
    "\n",
    "student_data.append('20 February 2019')\n",
    "print(*student_data, sep = \", \")\n",
    "\n",
    "student_data.append(8)\n",
    "print(*student_data, sep = \", \")"
   ]
  },
  {
   "cell_type": "code",
   "execution_count": 55,
   "metadata": {},
   "outputs": [
    {
     "name": "stdout",
     "output_type": "stream",
     "text": [
      "abc qwert, 22, 91.24, Computer Science, 25000, 5, National Textile University, 20 February 2019, 8\n",
      "abc qwert, qwe qwe, 22, 91.24, Computer Science, 25000, 5, National Textile University, 20 February 2019, 8\n"
     ]
    }
   ],
   "source": [
    "# insert\n",
    "student_data.insert(4,25000)\n",
    "print(*student_data, sep = \", \")\n",
    "\n",
    "student_data.insert(1,'qwe qwe')\n",
    "print(*student_data, sep = \", \")"
   ]
  },
  {
   "cell_type": "code",
   "execution_count": 56,
   "metadata": {},
   "outputs": [
    {
     "name": "stdout",
     "output_type": "stream",
     "text": [
      "asdf, qwe qwe, 22, 91.24, Computer Science, 25000, 5, National Textile University, 20 February 2019, 8\n",
      "asdf, qwe qwe, 22, 91.24, Computer Science, 25000, 7, National Textile University, 20 February 2019, 8\n"
     ]
    }
   ],
   "source": [
    "# update\n",
    "student_data[0]='asdf'\n",
    "print(*student_data, sep = \", \")\n",
    "\n",
    "student_data[6]=7\n",
    "print(*student_data, sep = \", \")"
   ]
  },
  {
   "cell_type": "code",
   "execution_count": 57,
   "metadata": {},
   "outputs": [
    {
     "name": "stdout",
     "output_type": "stream",
     "text": [
      "asdf, qwe qwe, 22, 91.24, 25000, 7, National Textile University, 20 February 2019, 8\n"
     ]
    }
   ],
   "source": [
    "# delete\n",
    "del student_data[4]\n",
    "print(*student_data, sep = \", \")\n"
   ]
  },
  {
   "cell_type": "code",
   "execution_count": 58,
   "metadata": {},
   "outputs": [
    {
     "name": "stdout",
     "output_type": "stream",
     "text": [
      "asdf, qwe qwe, 22, 25000, 7, National Textile University, 20 February 2019, 8\n"
     ]
    }
   ],
   "source": [
    "del student_data[3]\n",
    "print(*student_data, sep = \", \")"
   ]
  },
  {
   "cell_type": "code",
   "execution_count": 59,
   "metadata": {},
   "outputs": [
    {
     "data": {
      "text/plain": [
       "8"
      ]
     },
     "execution_count": 59,
     "metadata": {},
     "output_type": "execute_result"
    }
   ],
   "source": [
    "# pop\n",
    "student_data.pop(-1)"
   ]
  },
  {
   "cell_type": "code",
   "execution_count": 61,
   "metadata": {},
   "outputs": [
    {
     "data": {
      "text/plain": [
       "25000"
      ]
     },
     "execution_count": 61,
     "metadata": {},
     "output_type": "execute_result"
    }
   ],
   "source": [
    "student_data.pop(3)"
   ]
  },
  {
   "cell_type": "code",
   "execution_count": 62,
   "metadata": {},
   "outputs": [
    {
     "name": "stdout",
     "output_type": "stream",
     "text": [
      "asdf, qwe qwe, 22, 7, National Textile University, 20 February 2019\n"
     ]
    }
   ],
   "source": [
    "print(*student_data, sep = \", \")"
   ]
  },
  {
   "cell_type": "code",
   "execution_count": 99,
   "metadata": {},
   "outputs": [
    {
     "name": "stdout",
     "output_type": "stream",
     "text": [
      "Talha, 55000, Product Manager\n",
      "Nasir, 79000, Computer Engineer\n",
      "\n",
      "Total Salary: 134000\n"
     ]
    }
   ],
   "source": [
    "# 4. Multidimensional list tasks\n",
    "\n",
    "salary_gr_50k = 0\n",
    "employee_data = [[\"Ali\", 35000, \"Software Engineer\"],\n",
    "                 [\"Talha\", 55000, \"Product Manager\"],\n",
    "                 [\"Nasir\", 79000, \"Computer Engineer\"],\n",
    "                 [\"Khalid\", 44000, \"DBA\"]]\n",
    "\n",
    "for i in employee_data:\n",
    "    salary = i[1]\n",
    "    if salary >= 50000:\n",
    "        salary_gr_50k+= salary\n",
    "        print(*i, sep=', ')\n",
    "print(\"\\nTotal Salary:\",salary_gr_50k)"
   ]
  },
  {
   "cell_type": "code",
   "execution_count": 100,
   "metadata": {},
   "outputs": [
    {
     "name": "stdout",
     "output_type": "stream",
     "text": [
      "['Nasir', 90000, 'Computer Engineer']\n",
      "['Nasir', 90000, 'Product Manager']\n",
      "['Khalid', 50000, 'DBA']\n"
     ]
    }
   ],
   "source": [
    "# update in 2d array\n",
    "employee_data[2][1]=90000\n",
    "print(employee_data[2])\n",
    "\n",
    "employee_data[2][2]=\"Product Manager\"\n",
    "print(employee_data[2])\n",
    "\n",
    "employee_data[3][1]=50000\n",
    "print(employee_data[3])"
   ]
  },
  {
   "cell_type": "code",
   "execution_count": 109,
   "metadata": {},
   "outputs": [
    {
     "name": "stdout",
     "output_type": "stream",
     "text": [
      "Enter username: qwe\n",
      "Enter password: 123\n",
      "wrong details!\n"
     ]
    }
   ],
   "source": [
    "# 5. Login User\n",
    "user_data = [[\"abc\", \"123\", True],\n",
    "            [\"qwerty\", \"567\", False]]\n",
    "u_name=input(\"Enter username: \")\n",
    "u_password=input(\"Enter password: \")\n",
    "for x in user_data:\n",
    "    if u_name == x[0]:\n",
    "        if u_password == x[1]:\n",
    "            if x[2] == True:\n",
    "                print('login succesfull!')\n",
    "                break\n",
    "            else:\n",
    "                print('Email not verified!')\n",
    "                break\n",
    "    else:\n",
    "        print('wrong details!')\n",
    "        break"
   ]
  }
 ],
 "metadata": {
  "kernelspec": {
   "display_name": "Python 3",
   "language": "python",
   "name": "python3"
  },
  "language_info": {
   "codemirror_mode": {
    "name": "ipython",
    "version": 3
   },
   "file_extension": ".py",
   "mimetype": "text/x-python",
   "name": "python",
   "nbconvert_exporter": "python",
   "pygments_lexer": "ipython3",
   "version": "3.7.4"
  }
 },
 "nbformat": 4,
 "nbformat_minor": 2
}
